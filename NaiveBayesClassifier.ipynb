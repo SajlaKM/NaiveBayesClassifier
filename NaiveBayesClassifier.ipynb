{
  "nbformat": 4,
  "nbformat_minor": 0,
  "metadata": {
    "colab": {
      "provenance": [],
      "authorship_tag": "ABX9TyPpxBEZuCS4BJW4IjxAlwAk",
      "include_colab_link": true
    },
    "kernelspec": {
      "name": "python3",
      "display_name": "Python 3"
    },
    "language_info": {
      "name": "python"
    }
  },
  "cells": [
    {
      "cell_type": "markdown",
      "metadata": {
        "id": "view-in-github",
        "colab_type": "text"
      },
      "source": [
        "<a href=\"https://colab.research.google.com/github/SajlaKM/NaiveBayesClassifier/blob/main/NaiveBayesClassifier.ipynb\" target=\"_parent\"><img src=\"https://colab.research.google.com/assets/colab-badge.svg\" alt=\"Open In Colab\"/></a>"
      ]
    },
    {
      "cell_type": "code",
      "execution_count": 1,
      "metadata": {
        "colab": {
          "base_uri": "https://localhost:8080/"
        },
        "id": "tX2NdnJFibuk",
        "outputId": "1e27b307-ac6b-4505-8883-6c5e56f9f582"
      },
      "outputs": [
        {
          "output_type": "stream",
          "name": "stdout",
          "text": [
            "Messages:\n",
            " 0         I love this movie, it's amazing!\n",
            "1      The product is terrible, I hate it.\n",
            "2             Such a wonderful experience!\n",
            "3        This was the worst decision ever.\n",
            "4                 I highly recommend this!\n",
            "5    Absolutely awful, never buying again.\n",
            "Name: message, dtype: object\n",
            "\n",
            "Labels:\n",
            " 0    1\n",
            "1    0\n",
            "2    1\n",
            "3    0\n",
            "4    1\n",
            "5    0\n",
            "Name: labelnum, dtype: int64\n",
            "\n",
            "Accuracy: 100.00%\n",
            "Precision: 100.00%\n",
            "Recall: 100.00%\n",
            "\n",
            "Classification Report:\n",
            "               precision    recall  f1-score   support\n",
            "\n",
            "         neg       1.00      1.00      1.00         1\n",
            "         pos       1.00      1.00      1.00         1\n",
            "\n",
            "    accuracy                           1.00         2\n",
            "   macro avg       1.00      1.00      1.00         2\n",
            "weighted avg       1.00      1.00      1.00         2\n",
            "\n"
          ]
        }
      ],
      "source": [
        "import pandas as pd\n",
        "from sklearn.model_selection import train_test_split\n",
        "from sklearn.feature_extraction.text import CountVectorizer\n",
        "from sklearn.naive_bayes import MultinomialNB\n",
        "from sklearn import metrics\n",
        "\n",
        "# Sample dataset: Positive vs. Negative sentiment classification\n",
        "data = {\n",
        "    'message': [\n",
        "        \"I love this movie, it's amazing!\",\n",
        "        \"The product is terrible, I hate it.\",\n",
        "        \"Such a wonderful experience!\",\n",
        "        \"This was the worst decision ever.\",\n",
        "        \"I highly recommend this!\",\n",
        "        \"Absolutely awful, never buying again.\"\n",
        "    ],\n",
        "    'label': ['pos', 'neg', 'pos', 'neg', 'pos', 'neg']\n",
        "}\n",
        "\n",
        "# Convert dataset to DataFrame\n",
        "msg = pd.DataFrame(data)\n",
        "\n",
        "# Convert labels to numerical values (pos=1, neg=0)\n",
        "msg['labelnum'] = msg['label'].map({'pos': 1, 'neg': 0})\n",
        "\n",
        "# Extract features (X) and labels (y)\n",
        "X = msg['message']\n",
        "y = msg['labelnum']\n",
        "\n",
        "# Print feature and label values\n",
        "print(\"Messages:\\n\", X)\n",
        "print(\"\\nLabels:\\n\", y)\n",
        "\n",
        "# Split into train and test sets (80% train, 20% test)\n",
        "X_train, X_test, y_train, y_test = train_test_split(X, y, test_size=0.2, random_state=42)\n",
        "\n",
        "# Convert text into numerical feature vectors using CountVectorizer\n",
        "vectorizer = CountVectorizer()\n",
        "X_train_transformed = vectorizer.fit_transform(X_train)\n",
        "X_test_transformed = vectorizer.transform(X_test)\n",
        "\n",
        "# Train Naïve Bayes model\n",
        "nb_classifier = MultinomialNB()\n",
        "nb_classifier.fit(X_train_transformed, y_train)\n",
        "\n",
        "# Make predictions\n",
        "y_pred = nb_classifier.predict(X_test_transformed)\n",
        "\n",
        "# Evaluate model performance\n",
        "accuracy = metrics.accuracy_score(y_test, y_pred)\n",
        "precision = metrics.precision_score(y_test, y_pred)\n",
        "recall = metrics.recall_score(y_test, y_pred)\n",
        "\n",
        "# Print results\n",
        "print(f\"\\nAccuracy: {accuracy * 100:.2f}%\")\n",
        "print(f\"Precision: {precision * 100:.2f}%\")\n",
        "print(f\"Recall: {recall * 100:.2f}%\")\n",
        "print(\"\\nClassification Report:\\n\", metrics.classification_report(y_test, y_pred, target_names=['neg', 'pos']))\n"
      ]
    }
  ]
}